{
  "nbformat": 4,
  "nbformat_minor": 0,
  "metadata": {
    "colab": {
      "provenance": [],
      "authorship_tag": "ABX9TyPd1AqywgTEd9dTHDmdTRv4",
      "include_colab_link": true
    },
    "kernelspec": {
      "name": "python3",
      "display_name": "Python 3"
    },
    "language_info": {
      "name": "python"
    }
  },
  "cells": [
    {
      "cell_type": "markdown",
      "metadata": {
        "id": "view-in-github",
        "colab_type": "text"
      },
      "source": [
        "<a href=\"https://colab.research.google.com/github/AKABharat/Guess-the-number/blob/main/Guess_The_Number.ipynb\" target=\"_parent\"><img src=\"https://colab.research.google.com/assets/colab-badge.svg\" alt=\"Open In Colab\"/></a>"
      ]
    },
    {
      "cell_type": "code",
      "execution_count": null,
      "metadata": {
        "id": "ALrF4J-pGmxI"
      },
      "outputs": [],
      "source": [
        "import random\n",
        "correctNum = random.randint(1,100)\n",
        "\n",
        "userNum = int(input(\"guess the number ? \"))\n",
        "attempts = 1\n",
        "\n",
        "while userNum!=correctNum:\n",
        "  if userNum>correctNum:\n",
        "    print(\"guess smaller : \")\n",
        "  else:\n",
        "    print(\"guess larger\")\n",
        "  attempts+=1\n",
        "  userNum = int(input(\"guess the number ? \"))\n",
        "\n",
        "print(\"correct ans , the number was \"+str(correctNum))\n",
        "print(\"you took \"+str(attempts)+\" attempts is game.\")\n"
      ]
    }
  ]
}
